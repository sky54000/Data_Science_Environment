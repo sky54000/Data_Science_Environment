{
 "cells": [
  {
   "cell_type": "markdown",
   "metadata": {},
   "source": [
    "# Notebook exemple, packages available."
   ]
  },
  {
   "cell_type": "code",
   "execution_count": 1,
   "metadata": {},
   "outputs": [
    {
     "name": "stderr",
     "output_type": "stream",
     "text": [
      "Using TensorFlow backend.\n"
     ]
    },
    {
     "name": "stdout",
     "output_type": "stream",
     "text": [
      "pandas version: 0.23.4\n",
      "theano version: 1.0.2\n",
      "tensorflow version: 1.13.1\n",
      "keras version: 2.2.4\n",
      "numpy version: 1.15.2\n",
      "scipy version: 1.1.0\n",
      "matplotlib version: 3.0.0\n",
      "sklearn version: 0.20.3\n",
      "open-cv version: 4.0.0\n"
     ]
    }
   ],
   "source": [
    "import pandas as pd\n",
    "import theano as th\n",
    "import tensorflow as tf\n",
    "import keras as kr\n",
    "import numpy as np\n",
    "import scipy as sp\n",
    "import matplotlib as mpl\n",
    "import sklearn as sk\n",
    "import cv2 \n",
    "\n",
    "print(\"pandas version: \" + pd.__version__)\n",
    "print(\"theano version: \" + th.__version__)\n",
    "print(\"tensorflow version: \" + tf.__version__)\n",
    "print(\"keras version: \" + kr.__version__)\n",
    "print(\"numpy version: \" + np.__version__)\n",
    "print(\"scipy version: \" + sp.__version__)\n",
    "print(\"matplotlib version: \" + mpl.__version__)\n",
    "print(\"sklearn version: \" + sk.__version__)\n",
    "print(\"open-cv version: \" + cv2.__version__)"
   ]
  }
 ],
 "metadata": {
  "kernelspec": {
   "display_name": "Python 3",
   "language": "python",
   "name": "python3"
  },
  "language_info": {
   "codemirror_mode": {
    "name": "ipython",
    "version": 3
   },
   "file_extension": ".py",
   "mimetype": "text/x-python",
   "name": "python",
   "nbconvert_exporter": "python",
   "pygments_lexer": "ipython3",
   "version": "3.5.6"
  }
 },
 "nbformat": 4,
 "nbformat_minor": 2
}
